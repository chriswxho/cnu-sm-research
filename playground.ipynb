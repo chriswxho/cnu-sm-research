{
 "cells": [
  {
   "cell_type": "code",
   "execution_count": 83,
   "id": "7032e2c4",
   "metadata": {},
   "outputs": [],
   "source": [
    "import sys, importlib\n",
    "importlib.reload(sys.modules['scrape_reddit'])\n",
    "\n",
    "from scrape_reddit import search_posts, get_comments\n",
    "\n",
    "# for debugging\n",
    "from scrape_reddit import HEADERS\n",
    "import requests"
   ]
  },
  {
   "cell_type": "code",
   "execution_count": 2,
   "id": "3a68ac0b",
   "metadata": {},
   "outputs": [],
   "source": [
    "search_res = search_posts(\"Coldplay\", \"stanford\")"
   ]
  },
  {
   "cell_type": "code",
   "execution_count": 3,
   "id": "7977b8dc",
   "metadata": {},
   "outputs": [
    {
     "data": {
      "text/plain": [
       "100"
      ]
     },
     "execution_count": 3,
     "metadata": {},
     "output_type": "execute_result"
    }
   ],
   "source": [
    "len(search_res[\"data\"][\"children\"])"
   ]
  },
  {
   "cell_type": "code",
   "execution_count": 4,
   "id": "a327f6b4",
   "metadata": {},
   "outputs": [
    {
     "data": {
      "text/plain": [
       "'t3_1l13rzc'"
      ]
     },
     "execution_count": 4,
     "metadata": {},
     "output_type": "execute_result"
    }
   ],
   "source": [
    "search_res[\"data\"][\"children\"][0][\"data\"][\"name\"]"
   ]
  },
  {
   "cell_type": "code",
   "execution_count": 84,
   "id": "847ae59d",
   "metadata": {},
   "outputs": [],
   "source": [
    "comments_res = get_comments(\"1ihj6ju\")"
   ]
  },
  {
   "cell_type": "code",
   "execution_count": 85,
   "id": "249e9d32",
   "metadata": {},
   "outputs": [
    {
     "name": "stdout",
     "output_type": "stream",
     "text": [
      "maxhjvm\n"
     ]
    }
   ],
   "source": [
    "for comment in comments_res['data']['children']:\n",
    "    children = comment['data']['replies']\n",
    "    if len(children) > 0:\n",
    "        print(comment[\"data\"][\"id\"])\n",
    "        break"
   ]
  },
  {
   "cell_type": "code",
   "execution_count": 89,
   "id": "d8dd107c",
   "metadata": {},
   "outputs": [
    {
     "name": "stdout",
     "output_type": "stream",
     "text": [
      "{'kind': 't1', 'data': {'subreddit_id': 't5_3b6af', 'approved_at_utc': None, 'author_is_blocked': False, 'comment_type': None, 'awarders': [], 'mod_reason_by': None, 'banned_by': None, 'author_flair_type': 'text', 'total_awards_received': 0, 'subreddit': 'moderatelygranolamoms', 'author_flair_template_id': None, 'likes': None, 'replies': '', 'user_reports': [], 'saved': False, 'id': 'maxfh6u', 'banned_at_utc': None, 'mod_reason_title': None, 'gilded': 0, 'archived': False, 'collapsed_reason_code': None, 'no_follow': True, 'author': 'AutoModerator', 'can_mod_post': False, 'created_utc': 1738680147.0, 'send_replies': False, 'parent_id': 't3_1ihj6ju', 'score': 1, 'author_fullname': 't2_6l4z3', 'approved_by': None, 'mod_note': None, 'all_awardings': [], 'collapsed': False, 'body': \"Thanks for your post in r/moderatelygranolamoms! Our goal is to keep this sub a peaceful, respectful and tolerant place. Even if you've been here awhile already please take a minute to [READ THE RULES.](https://www.reddit.com/r/moderatelygranolamoms/about/rules) It only takes a few minutes and will make being here more enjoyable for everyone! \\n\\n\\n*I am a bot, and this action was performed automatically. Please [contact the moderators of this subreddit](/message/compose/?to=/r/moderatelygranolamoms) if you have any questions or concerns.*\", 'edited': False, 'top_awarded_type': None, 'author_flair_css_class': None, 'name': 't1_maxfh6u', 'is_submitter': False, 'downs': 0, 'author_flair_richtext': [], 'author_patreon_flair': False, 'body_html': '&lt;div class=\"md\"&gt;&lt;p&gt;Thanks for your post in &lt;a href=\"/r/moderatelygranolamoms\"&gt;r/moderatelygranolamoms&lt;/a&gt;! Our goal is to keep this sub a peaceful, respectful and tolerant place. Even if you&amp;#39;ve been here awhile already please take a minute to &lt;a href=\"https://www.reddit.com/r/moderatelygranolamoms/about/rules\"&gt;READ THE RULES.&lt;/a&gt; It only takes a few minutes and will make being here more enjoyable for everyone! &lt;/p&gt;\\n\\n&lt;p&gt;&lt;em&gt;I am a bot, and this action was performed automatically. Please &lt;a href=\"/message/compose/?to=/r/moderatelygranolamoms\"&gt;contact the moderators of this subreddit&lt;/a&gt; if you have any questions or concerns.&lt;/em&gt;&lt;/p&gt;\\n&lt;/div&gt;', 'removal_reason': None, 'collapsed_reason': None, 'distinguished': 'moderator', 'associated_award': None, 'stickied': True, 'author_premium': True, 'can_gild': False, 'gildings': {}, 'unrepliable_reason': None, 'author_flair_text_color': None, 'score_hidden': True, 'permalink': '/r/moderatelygranolamoms/comments/1ihj6ju/usa_how_can_i_successfully_choose_vitamin_k_oral/maxfh6u/', 'subreddit_type': 'public', 'locked': False, 'report_reasons': None, 'created': 1738680147.0, 'author_flair_text': None, 'treatment_tags': [], 'link_id': 't3_1ihj6ju', 'subreddit_name_prefixed': 'r/moderatelygranolamoms', 'controversiality': 0, 'depth': 0, 'author_flair_background_color': None, 'collapsed_because_crowd_control': None, 'mod_reports': [], 'num_reports': None, 'ups': 1}}\n"
     ]
    }
   ],
   "source": [
    "def process_comments(comments_json: dict[str, object]) -> list[object]:\n",
    "    for comment in comments_json[\"data\"][\"children\"]:\n",
    "        print(comment)\n",
    "        break\n",
    "process_comments(comments_res)"
   ]
  },
  {
   "cell_type": "code",
   "execution_count": 41,
   "id": "f00b514e",
   "metadata": {},
   "outputs": [],
   "source": [
    "resp = requests.get(\"https://oauth.reddit.com/comments/1ihj6ju\", headers=HEADERS)\n",
    "comments_json = resp.json()[1]"
   ]
  },
  {
   "cell_type": "code",
   "execution_count": 48,
   "id": "cc8081f0",
   "metadata": {},
   "outputs": [
    {
     "name": "stdout",
     "output_type": "stream",
     "text": [
      "maxhjvm: maxjoie\n",
      "maxhjvm: maxo7gn\n",
      "maxhahm: maxp5lm\n",
      "maxj7dw: maxq5zo\n",
      "maxj7dw: maxse2w\n",
      "maxj7dw: mu7uh5n\n",
      "maxj7dw: maxqbkd\n",
      "maxjnd6: mpu01u2\n",
      "maxjnd6: maxp2bc\n",
      "maxi6h9: maxkbw1\n",
      "maxhlsy: mpu0fv3\n",
      "maxjily: maxjujt\n",
      "maxjily: maybu2a\n",
      "maxjily: mswp7zc\n",
      "maxv304: maxwy79\n",
      "mlpphlm: myb0l5s\n",
      "maxjeiz: muxm4df\n",
      "maxg9mp: mbbqzso\n",
      "maxhlno: maximgj\n",
      "['maxhjvm', 'maxhahm', 'maxj7dw', 'maxjnd6', 'maxi6h9', 'maxhlsy', 'maxjily', 'maxv304', 'mlpphlm', 'maxjeiz', 'maxg9mp', 'maxhlno']\n"
     ]
    }
   ],
   "source": [
    "comments_to_get_more_comments = []\n",
    "for comment in comments_json['data']['children']:\n",
    "    children = comment['data']['replies']\n",
    "    if len(children) > 0:\n",
    "        comments_to_get_more_comments.append(comment[\"data\"][\"id\"])\n",
    "        for child in children[\"data\"][\"children\"]:\n",
    "            print(f'{comment[\"data\"][\"id\"]}: {child[\"data\"][\"id\"]}')\n",
    "\n",
    "print(comments_to_get_more_comments)"
   ]
  },
  {
   "cell_type": "code",
   "execution_count": 47,
   "id": "c9777117",
   "metadata": {},
   "outputs": [
    {
     "data": {
      "text/plain": [
       "dict_keys(['after', 'dist', 'modhash', 'geo_filter', 'children', 'before'])"
      ]
     },
     "execution_count": 47,
     "metadata": {},
     "output_type": "execute_result"
    }
   ],
   "source": [
    "children[\"data\"].keys()"
   ]
  },
  {
   "cell_type": "code",
   "execution_count": null,
   "id": "10689882",
   "metadata": {},
   "outputs": [
    {
     "name": "stdout",
     "output_type": "stream",
     "text": [
      "{'message': 'Forbidden', 'error': 403}\n"
     ]
    }
   ],
   "source": [
    "for comment in comments_to_get_more_comments:\n",
    "    resp = requests.get(\"https://oauth.reddit.com/api/morechildren?api_type=json&link_id=maxhjvm&children=\", headers=HEADERS)\n",
    "    print(resp.json())\n",
    "    break"
   ]
  }
 ],
 "metadata": {
  "kernelspec": {
   "display_name": "cnu-sm-research",
   "language": "python",
   "name": "python3"
  },
  "language_info": {
   "codemirror_mode": {
    "name": "ipython",
    "version": 3
   },
   "file_extension": ".py",
   "mimetype": "text/x-python",
   "name": "python",
   "nbconvert_exporter": "python",
   "pygments_lexer": "ipython3",
   "version": "3.9.12"
  }
 },
 "nbformat": 4,
 "nbformat_minor": 5
}
